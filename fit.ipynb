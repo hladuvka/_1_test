import numpy as np
data = np.load ('data.txt')
print data
